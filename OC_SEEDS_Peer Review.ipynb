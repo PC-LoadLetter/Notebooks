{
 "cells": [
  {
   "cell_type": "code",
   "execution_count": 1,
   "metadata": {
    "collapsed": false
   },
   "outputs": [],
   "source": [
    "import pandas as pd\n",
    "store = pd.HDFStore('Seeds.h5')\n",
    "Seeds = store[\"Seeds_7_25_16\"]"
   ]
  },
  {
   "cell_type": "markdown",
   "metadata": {},
   "source": [
    "# Peer Review\n",
    "### Prior to sending data to RAC we require an independent review\n",
    "\n",
    "Reviewer:\n",
    "  - Spot check ARERR tables used in validation.   \n",
    "    - [ARERR Tables](#ARERR-Comparisons)  \n",
    "  - Ensure comparison tables at bottom of document show good data match  \n",
    "    - [2014](#2014-Validation)  \n",
    "    - [2015](#2015-Validation)  \n",
    "  - Review logic for calculating releases from release rates and release dates  \n",
    "    - [Logic](#Calculate-Releases)  \n",
    "  - Review schema transformation and ensure new schema matches RAC requirements  \n",
    "    - [Transformation](#Schema-Transformation)  \n",
    "  - Review the Final Seeds File \"OysterCreek_SEEDS_ver_2.00\"  \n",
    "    - [Final File](#Final-Seeds-File)  \n"
   ]
  },
  {
   "cell_type": "markdown",
   "metadata": {},
   "source": [
    "### Wrangling OC SEEDS Data ###\n",
    "The OC SEEDS data was delivered in [612 plain text files.](https://chemstaff.egnyte.com/fl/WOr1mKyo0f)"
   ]
  },
  {
   "cell_type": "markdown",
   "metadata": {},
   "source": [
    "### The text files were parsed with the following code. ###\n",
    "Commented out after initial parsing was completed."
   ]
  },
  {
   "cell_type": "code",
   "execution_count": 2,
   "metadata": {
    "collapsed": true
   },
   "outputs": [],
   "source": [
    "# filenames = !dir /b C:\\OC  \n",
    "\n",
    "# SeedsData = {}\n",
    "# for file in filenames:\n",
    "#     seeds = open('C:\\\\OC\\\\' + file)\n",
    "#     text = seeds.read().replace(\"\\n\",\" \").replace(\",\",\" \").split()\n",
    "#     if len(text[3]) == 1:\n",
    "#         text.insert(1,None)\n",
    "#     while len(text[1:]) < 21:\n",
    "#         text.append(None)\n",
    "#     SeedsData[text[0]] = text[1:]"
   ]
  },
  {
   "cell_type": "code",
   "execution_count": 3,
   "metadata": {
    "collapsed": false
   },
   "outputs": [
    {
     "name": "stdout",
     "output_type": "stream",
     "text": [
      "SEEDS data starts on 2014-01-01 00:00:00 and ends on 2016-06-07 09:28:00\n"
     ]
    }
   ],
   "source": [
    "print(\"SEEDS data starts on\",Seeds.STARTDATE.min(),\"and ends on\",Seeds.STOPDATE.max())"
   ]
  },
  {
   "cell_type": "markdown",
   "metadata": {},
   "source": [
    "Convert Nuclide names to standard format"
   ]
  },
  {
   "cell_type": "code",
   "execution_count": 4,
   "metadata": {
    "collapsed": false
   },
   "outputs": [],
   "source": [
    "old = ['CO60','I131', 'C14', 'MO99', 'H3', 'MN54', 'KR88', 'KR85M',\n",
    "       'CR51', 'CO58', 'ZN65', 'SR89', 'CS137', 'XE133', 'BA140', 'I133',\n",
    "       'XE138', 'KR87', 'XE135', 'I135']\n",
    "new = [\"Co-60\",'I-131', 'C-14', 'Mo-99', 'H-3', 'Mn-54', 'Kr-88', 'Kr-85m',\n",
    "       'Cr-51', 'Co-58', 'Zn-65', 'Sr-89', 'Cs-137', 'Xe-133', 'Ba-140', 'I-133',\n",
    "       'Xe-138', 'Kr-87', 'Xe-135', 'I-135']\n",
    "for name in range(len(old)):\n",
    "    Seeds.loc[Seeds[\"NUCLIDE\"] == old[name],\"NUCLIDE\"] = new[name]"
   ]
  },
  {
   "cell_type": "markdown",
   "metadata": {
    "collapsed": true
   },
   "source": [
    "# ARERR Comparisons\n",
    "### Import 2014 and 2015 ARERR\n",
    "All data is for gaseous continuous releases.  There are no batch releases."
   ]
  },
  {
   "cell_type": "code",
   "execution_count": 5,
   "metadata": {
    "collapsed": false
   },
   "outputs": [],
   "source": [
    "data = {(2015,\"Elevated\",\"Kr-85m\") : [2.1E-1, 4.14E-1, 9.07E-1, 1.19],\n",
    "        (2015,\"Elevated\",\"Kr-88\") : [1.38E-1, 3.17E-1, 7.07E-1, 1.02],\n",
    "        (2015,\"Elevated\",\"Xe-133\") : [3.12E-1, 4.5E-1, 1.03, 1.25],\n",
    "        (2015,\"Elevated\",\"Xe-135\") : [13.7, 13.1, 3.88, 1.62],\n",
    "       (2015,\"Elevated\",\"I-131\") : [1.99E-4, 3.91E-4, 3.32E-4, 2.3E-4],\n",
    "       (2015,\"Elevated\",\"I-133\") : [3.38E-4, 1.1E-3, 9.86E-4, 7.17E-4],\n",
    "       (2015,\"Elevated\",\"Sr-89\") : [1.0E-3, 3.18E-4, 1.09E-4, 1.42E-4],\n",
    "       (2015,\"Elevated\",\"Cs-137\") : [6.64E-4,None,None,None],\n",
    "       (2015,\"Elevated\",\"Ba-140\") : [1.27E-3, 5.25E-4, 1.03E-4, 1.37E-4],\n",
    "       (2015,\"Elevated\",\"Cr-51\") : [3.29E-4, 1.01E-4,None,None],\n",
    "       (2015,\"Elevated\",\"Mn-54\") : [5.68E-4,4.83E-4,2.63E-4,2.05E-4],\n",
    "       (2015,\"Elevated\",\"Co-58\") : [4.93E-3,1.63E-3,1.31E-3,9.71E-4],\n",
    "       (2015,\"Elevated\",\"Co-60\") : [4.26E-03, 1.93E-03, 1.71E-03, 1.41E-03],\n",
    "       (2015,\"Elevated\",\"Mo-99\") : [1.92E-04, 1.00E-04, 5.01E-05, 7.05E-06 ],\n",
    "       (2015,\"Elevated\",\"Zn-65\") : [1.04E-03, 5.10E-04, 2.59E-04, 2.40E-04 ],\n",
    "       (2015,\"Elevated\",\"H-3\") : [6.45, 1.07E+01, 6.48, 4.96],\n",
    "       (2015,\"Elevated\",\"C-14\") : [2.18, 2.14, 2.37, 2.35],\n",
    "        (2015,\"Ground\",\"Kr-85m\") : [None, 2.75E-02, None, None],\n",
    "        (2015,\"Ground\",\"Kr-87\") : [None, 3.68E-01, None, None],\n",
    "        (2015,\"Ground\",\"Kr-88\") : [None, 6.56E-02, None, None],\n",
    "        (2015,\"Ground\",\"Xe-135\") : [None, 5.40E-01, None, None],\n",
    "        (2015,\"Ground\",\"I-131\") : [None, 7.17E-07, 1.17E-06, 3.39E-07], \n",
    "        (2015,\"Ground\",\"I-133\") : [None, 1.69E-06, 1.52E-06, 1.69E-08],\n",
    "        (2015,\"Ground\",\"Mn-54\") : [None, 1.09E-06, None, None],\n",
    "        (2015,\"Ground\",\"Co-58\") : [6.18E-07, 1.07E-05, 1.91E-05, 3.00E-06], \n",
    "        (2015,\"Ground\",\"Co-60\") : [4.91E-06, 2.29E-05, 3.14E-05, 5.31E-06],\n",
    "        (2015,\"Ground\",\"H-3\") : [6.20E-01, 5.95E-01, 4.82E-01, 4.93E-01],\n",
    "        (2015,\"Ground\",\"C-14\") : [6.76E-02, 6.63E-02, 7.32E-02, 7.28E-02],\n",
    "        (2014,\"Elevated\",\"Kr-85m\") : [1.90, 1.51, 8.55E-01, 4.38E-01],\n",
    "        (2014,\"Elevated\",\"Kr-87\") :  [3.24, 1.08, 2.39, None],\n",
    "        (2014,\"Elevated\",\"Kr-88\") :  [2.13, 2.26, 5.80E-01, 1.98],\n",
    "        (2014,\"Elevated\",\"Xe-133\") :  [1.45, 1.70, 1.06, 5.25E-01],\n",
    "        (2014,\"Elevated\",\"Xe-135\") :  [5.96, 1.11E+01, 8.71, 4.82],\n",
    "        (2014,\"Elevated\",\"Xe-138\") :  [4.83, 1.71, None, None],\n",
    "        (2014,\"Elevated\",\"I-131\") :  [3.88E-04, 6.18E-04, 6.19E-04, 7.03E-05],\n",
    "        (2014,\"Elevated\",\"I-133\") :  [8.14E-04, 1.76E-03, 9.50E-04, 5.20E-05],\n",
    "        (2014,\"Elevated\",\"Sr-89\") :  [6.68E-04, 1.57E-04, 2.93E-04, 6.45E-05],\n",
    "        (2014,\"Elevated\",\"Cs-137\") :  [1.92E-05, None, None, None],\n",
    "        (2014,\"Elevated\",\"Ba-140\") :  [1.13E-03, 4.17E-04, 7.12E-04, 3.70E-04],\n",
    "        (2014,\"Elevated\",\"Cr-51\") :  [None, None, 7.77E-05, 2.09E-05],\n",
    "        (2014,\"Elevated\",\"Mn-54\") :  [5.40E-04, 4.16E-04, 1.14E-03, 3.98E-04],\n",
    "        (2014,\"Elevated\",\"Co-58\") :  [2.41E-03, 1.97E-03, 3.96E-03, 2.0E-03],\n",
    "        (2014,\"Elevated\",\"Co-60\") :  [3.04E-03, 2.30E-03, 5.01E-03, 1.88E-03],\n",
    "        (2014,\"Elevated\",\"Mo-99\") :  [2.46E-04, 2.25E-04, 3.52E-04, 5.20E-05],\n",
    "        (2014,\"Elevated\",\"Zn-65\") :  [8.40E-04, 7.41E-04, 1.38E-03, 2.36E-04 ],\n",
    "        (2014,\"Elevated\",\"H-3\") :  [6.17, 9.80, 7.49, 4.40],\n",
    "        (2014,\"Elevated\",\"C-14\") :  [2.32, 2.33, 1.76, 1.98],\n",
    "        (2014,\"Ground\",\"Xe-135\") : [None, 1.34, 9.26E-01, None],\n",
    "        (2014,\"Ground\",\"I-131\") : [None, 9.91E-07, 1.30E-05, 1.52E-06],\n",
    "        (2014,\"Ground\",\"I-133\") : [None, 4.86E-06, 1.94E-06, None],\n",
    "        (2014,\"Ground\",\"Cs-137\") : [8.29E-07, 8.38E-07, 2.27E-07, None],\n",
    "        (2014,\"Ground\",\"Ba-140\") : [1.19E-05, 1.20E-05, 3.26E-06, None],\n",
    "        (2014,\"Ground\",\"Cr-51\") : [6.72E-06, 6.79E-06, 1.84E-06, None],\n",
    "        (2014,\"Ground\",\"Mn-54\") : [8.03E-06, 8.12E-06, 2.20E-06, None],\n",
    "        (2014,\"Ground\",\"Co-58\") : [2.30E-05, 2.36E-05, 6.65E-06, 7.76E-07],\n",
    "        (2014,\"Ground\",\"Co-60\") : [2.81E-05, 3.78E-05, 1.94E-05, 2.18E-06],\n",
    "        (2014,\"Ground\",\"Mo-99\") : [2.21E-06, 2.24E-06, 6.06E-07, None],\n",
    "        (2014,\"Ground\",\"Zn-65\") : [8.71E-06, 8.81E-06, 2.38E-06, None],\n",
    "        (2014,\"Ground\",\"H-3\") : [2.66E-01, 2.03E-01, 4.40E-01, 1.70E-01],\n",
    "        (2014,\"Ground\",\"C-14\") : [7.20E-02, 7.21E-02, 5.44E-02, 6.13E-02]}"
   ]
  },
  {
   "cell_type": "code",
   "execution_count": 6,
   "metadata": {
    "collapsed": false
   },
   "outputs": [],
   "source": [
    "ARERR = pd.DataFrame(data, index=[\"Q1\", \"Q2\", \"Q3\", \"Q4\"]).T"
   ]
  },
  {
   "cell_type": "code",
   "execution_count": 7,
   "metadata": {
    "collapsed": false
   },
   "outputs": [],
   "source": [
    "ARERR[\"Q1\"] = pd.to_numeric(ARERR[\"Q1\"])\n",
    "ARERR[\"Q2\"] = pd.to_numeric(ARERR[\"Q2\"])\n",
    "ARERR[\"Q3\"] = pd.to_numeric(ARERR[\"Q3\"])\n",
    "ARERR[\"Q4\"] = pd.to_numeric(ARERR[\"Q4\"])"
   ]
  },
  {
   "cell_type": "code",
   "execution_count": 8,
   "metadata": {
    "collapsed": false
   },
   "outputs": [],
   "source": [
    "ARERR[\"TOTAL\"] = ARERR[\"Q1\"].fillna(value=0) + ARERR[\"Q2\"].fillna(value=0) +\\\n",
    "ARERR[\"Q3\"].fillna(value=0) + ARERR[\"Q4\"].fillna(value=0)"
   ]
  },
  {
   "cell_type": "markdown",
   "metadata": {},
   "source": [
    "# Calculate Releases\n",
    "Curies Released = Duration of Release in seconds * Release Rate (Microcuries / Sec)"
   ]
  },
  {
   "cell_type": "code",
   "execution_count": 9,
   "metadata": {
    "collapsed": true
   },
   "outputs": [],
   "source": [
    "def seconds(value):\n",
    "    return value.total_seconds()"
   ]
  },
  {
   "cell_type": "code",
   "execution_count": 10,
   "metadata": {
    "collapsed": false
   },
   "outputs": [],
   "source": [
    "Seeds[\"RELEASED\"] = Seeds[\"MICROCURIES\"] * (Seeds[\"STOPDATE\"] - Seeds[\"STARTDATE\"]).apply(seconds) / 1000000\n",
    "# Seeds.loc[Seeds[\"REL_MODE_OR_DIL\"] == 1,\"REL_MODE_OR_DIL\"] = \"Elevated\"\n",
    "# Seeds.loc[Seeds[\"REL_MODE_OR_DIL\"] == 2,\"REL_MODE_OR_DIL\"] = \"Ground\""
   ]
  },
  {
   "cell_type": "markdown",
   "metadata": {},
   "source": [
    "# 2014 Validation"
   ]
  },
  {
   "cell_type": "code",
   "execution_count": 11,
   "metadata": {
    "collapsed": false
   },
   "outputs": [
    {
     "name": "stdout",
     "output_type": "stream",
     "text": [
      "2014 SEEDS data starts on 2014-01-01 00:00:00 and ends on 2014-12-31 23:59:00\n"
     ]
    },
    {
     "data": {
      "text/html": [
       "<div>\n",
       "<table border=\"1\" class=\"dataframe\">\n",
       "  <thead>\n",
       "    <tr style=\"text-align: right;\">\n",
       "      <th></th>\n",
       "      <th>REL_MODE_OR_DIL</th>\n",
       "      <th>NUCLIDE</th>\n",
       "      <th>RELEASED_ARERR</th>\n",
       "      <th>RELEASED_SEEDS</th>\n",
       "    </tr>\n",
       "  </thead>\n",
       "  <tbody>\n",
       "    <tr>\n",
       "      <th>0</th>\n",
       "      <td>Elevated</td>\n",
       "      <td>Ba-140</td>\n",
       "      <td>0.002629</td>\n",
       "      <td>2.629145e-03</td>\n",
       "    </tr>\n",
       "    <tr>\n",
       "      <th>1</th>\n",
       "      <td>Elevated</td>\n",
       "      <td>C-14</td>\n",
       "      <td>8.39</td>\n",
       "      <td>8.400941e+00</td>\n",
       "    </tr>\n",
       "    <tr>\n",
       "      <th>2</th>\n",
       "      <td>Elevated</td>\n",
       "      <td>Co-58</td>\n",
       "      <td>0.01034</td>\n",
       "      <td>1.034158e-02</td>\n",
       "    </tr>\n",
       "    <tr>\n",
       "      <th>3</th>\n",
       "      <td>Elevated</td>\n",
       "      <td>Co-60</td>\n",
       "      <td>0.01223</td>\n",
       "      <td>5.246105e+06</td>\n",
       "    </tr>\n",
       "    <tr>\n",
       "      <th>4</th>\n",
       "      <td>Elevated</td>\n",
       "      <td>Cr-51</td>\n",
       "      <td>9.86e-05</td>\n",
       "      <td>9.859662e-05</td>\n",
       "    </tr>\n",
       "    <tr>\n",
       "      <th>5</th>\n",
       "      <td>Elevated</td>\n",
       "      <td>Cs-137</td>\n",
       "      <td>1.92e-05</td>\n",
       "      <td>1.920021e-05</td>\n",
       "    </tr>\n",
       "    <tr>\n",
       "      <th>6</th>\n",
       "      <td>Elevated</td>\n",
       "      <td>H-3</td>\n",
       "      <td>27.86</td>\n",
       "      <td>2.786000e+01</td>\n",
       "    </tr>\n",
       "    <tr>\n",
       "      <th>7</th>\n",
       "      <td>Elevated</td>\n",
       "      <td>I-131</td>\n",
       "      <td>0.0016953</td>\n",
       "      <td>1.695158e-03</td>\n",
       "    </tr>\n",
       "    <tr>\n",
       "      <th>8</th>\n",
       "      <td>Elevated</td>\n",
       "      <td>I-133</td>\n",
       "      <td>0.003576</td>\n",
       "      <td>3.578646e-03</td>\n",
       "    </tr>\n",
       "    <tr>\n",
       "      <th>9</th>\n",
       "      <td>Elevated</td>\n",
       "      <td>Kr-85m</td>\n",
       "      <td>4.703</td>\n",
       "      <td>4.703155e+00</td>\n",
       "    </tr>\n",
       "    <tr>\n",
       "      <th>10</th>\n",
       "      <td>Elevated</td>\n",
       "      <td>Kr-87</td>\n",
       "      <td>6.71</td>\n",
       "      <td>6.710653e+00</td>\n",
       "    </tr>\n",
       "    <tr>\n",
       "      <th>11</th>\n",
       "      <td>Elevated</td>\n",
       "      <td>Kr-88</td>\n",
       "      <td>6.95</td>\n",
       "      <td>6.947308e+00</td>\n",
       "    </tr>\n",
       "    <tr>\n",
       "      <th>12</th>\n",
       "      <td>Elevated</td>\n",
       "      <td>Mn-54</td>\n",
       "      <td>0.002494</td>\n",
       "      <td>2.489517e-03</td>\n",
       "    </tr>\n",
       "    <tr>\n",
       "      <th>13</th>\n",
       "      <td>Elevated</td>\n",
       "      <td>Mo-99</td>\n",
       "      <td>0.000875</td>\n",
       "      <td>8.743502e-04</td>\n",
       "    </tr>\n",
       "    <tr>\n",
       "      <th>14</th>\n",
       "      <td>Elevated</td>\n",
       "      <td>Sr-89</td>\n",
       "      <td>0.0011825</td>\n",
       "      <td>1.081920e-03</td>\n",
       "    </tr>\n",
       "    <tr>\n",
       "      <th>15</th>\n",
       "      <td>Elevated</td>\n",
       "      <td>Xe-133</td>\n",
       "      <td>4.735</td>\n",
       "      <td>4.730810e+00</td>\n",
       "    </tr>\n",
       "    <tr>\n",
       "      <th>16</th>\n",
       "      <td>Elevated</td>\n",
       "      <td>Xe-135</td>\n",
       "      <td>30.59</td>\n",
       "      <td>3.032364e+01</td>\n",
       "    </tr>\n",
       "    <tr>\n",
       "      <th>17</th>\n",
       "      <td>Elevated</td>\n",
       "      <td>Xe-138</td>\n",
       "      <td>6.54</td>\n",
       "      <td>6.537486e+00</td>\n",
       "    </tr>\n",
       "    <tr>\n",
       "      <th>18</th>\n",
       "      <td>Elevated</td>\n",
       "      <td>Zn-65</td>\n",
       "      <td>0.003197</td>\n",
       "      <td>3.191820e-03</td>\n",
       "    </tr>\n",
       "    <tr>\n",
       "      <th>19</th>\n",
       "      <td>Ground</td>\n",
       "      <td>Ba-140</td>\n",
       "      <td>2.716e-05</td>\n",
       "      <td>2.721650e-05</td>\n",
       "    </tr>\n",
       "    <tr>\n",
       "      <th>20</th>\n",
       "      <td>Ground</td>\n",
       "      <td>C-14</td>\n",
       "      <td>0.2598</td>\n",
       "      <td>2.597893e-01</td>\n",
       "    </tr>\n",
       "    <tr>\n",
       "      <th>21</th>\n",
       "      <td>Ground</td>\n",
       "      <td>Co-58</td>\n",
       "      <td>5.4026e-05</td>\n",
       "      <td>5.401470e-05</td>\n",
       "    </tr>\n",
       "    <tr>\n",
       "      <th>22</th>\n",
       "      <td>Ground</td>\n",
       "      <td>Co-60</td>\n",
       "      <td>8.748e-05</td>\n",
       "      <td>8.742316e-05</td>\n",
       "    </tr>\n",
       "    <tr>\n",
       "      <th>23</th>\n",
       "      <td>Ground</td>\n",
       "      <td>Cr-51</td>\n",
       "      <td>1.535e-05</td>\n",
       "      <td>1.534675e-05</td>\n",
       "    </tr>\n",
       "    <tr>\n",
       "      <th>24</th>\n",
       "      <td>Ground</td>\n",
       "      <td>Cs-137</td>\n",
       "      <td>1.894e-06</td>\n",
       "      <td>1.894364e-06</td>\n",
       "    </tr>\n",
       "    <tr>\n",
       "      <th>25</th>\n",
       "      <td>Ground</td>\n",
       "      <td>H-3</td>\n",
       "      <td>1.079</td>\n",
       "      <td>1.078080e+00</td>\n",
       "    </tr>\n",
       "    <tr>\n",
       "      <th>26</th>\n",
       "      <td>Ground</td>\n",
       "      <td>I-131</td>\n",
       "      <td>1.5511e-05</td>\n",
       "      <td>1.551338e-05</td>\n",
       "    </tr>\n",
       "    <tr>\n",
       "      <th>27</th>\n",
       "      <td>Ground</td>\n",
       "      <td>I-133</td>\n",
       "      <td>6.8e-06</td>\n",
       "      <td>6.803110e-06</td>\n",
       "    </tr>\n",
       "    <tr>\n",
       "      <th>28</th>\n",
       "      <td>Ground</td>\n",
       "      <td>Kr-88</td>\n",
       "      <td></td>\n",
       "      <td>3.164103e+01</td>\n",
       "    </tr>\n",
       "    <tr>\n",
       "      <th>29</th>\n",
       "      <td>Ground</td>\n",
       "      <td>Mn-54</td>\n",
       "      <td>1.835e-05</td>\n",
       "      <td>1.834416e-05</td>\n",
       "    </tr>\n",
       "    <tr>\n",
       "      <th>30</th>\n",
       "      <td>Ground</td>\n",
       "      <td>Mo-99</td>\n",
       "      <td>5.056e-06</td>\n",
       "      <td>5.059631e-06</td>\n",
       "    </tr>\n",
       "    <tr>\n",
       "      <th>31</th>\n",
       "      <td>Ground</td>\n",
       "      <td>Xe-135</td>\n",
       "      <td>2.266</td>\n",
       "      <td>2.262911e+00</td>\n",
       "    </tr>\n",
       "    <tr>\n",
       "      <th>32</th>\n",
       "      <td>Ground</td>\n",
       "      <td>Zn-65</td>\n",
       "      <td>1.99e-05</td>\n",
       "      <td>1.990281e-05</td>\n",
       "    </tr>\n",
       "  </tbody>\n",
       "</table>\n",
       "</div>"
      ],
      "text/plain": [
       "   REL_MODE_OR_DIL NUCLIDE RELEASED_ARERR  RELEASED_SEEDS\n",
       "0         Elevated  Ba-140       0.002629    2.629145e-03\n",
       "1         Elevated    C-14           8.39    8.400941e+00\n",
       "2         Elevated   Co-58        0.01034    1.034158e-02\n",
       "3         Elevated   Co-60        0.01223    5.246105e+06\n",
       "4         Elevated   Cr-51       9.86e-05    9.859662e-05\n",
       "5         Elevated  Cs-137       1.92e-05    1.920021e-05\n",
       "6         Elevated     H-3          27.86    2.786000e+01\n",
       "7         Elevated   I-131      0.0016953    1.695158e-03\n",
       "8         Elevated   I-133       0.003576    3.578646e-03\n",
       "9         Elevated  Kr-85m          4.703    4.703155e+00\n",
       "10        Elevated   Kr-87           6.71    6.710653e+00\n",
       "11        Elevated   Kr-88           6.95    6.947308e+00\n",
       "12        Elevated   Mn-54       0.002494    2.489517e-03\n",
       "13        Elevated   Mo-99       0.000875    8.743502e-04\n",
       "14        Elevated   Sr-89      0.0011825    1.081920e-03\n",
       "15        Elevated  Xe-133          4.735    4.730810e+00\n",
       "16        Elevated  Xe-135          30.59    3.032364e+01\n",
       "17        Elevated  Xe-138           6.54    6.537486e+00\n",
       "18        Elevated   Zn-65       0.003197    3.191820e-03\n",
       "19          Ground  Ba-140      2.716e-05    2.721650e-05\n",
       "20          Ground    C-14         0.2598    2.597893e-01\n",
       "21          Ground   Co-58     5.4026e-05    5.401470e-05\n",
       "22          Ground   Co-60      8.748e-05    8.742316e-05\n",
       "23          Ground   Cr-51      1.535e-05    1.534675e-05\n",
       "24          Ground  Cs-137      1.894e-06    1.894364e-06\n",
       "25          Ground     H-3          1.079    1.078080e+00\n",
       "26          Ground   I-131     1.5511e-05    1.551338e-05\n",
       "27          Ground   I-133        6.8e-06    6.803110e-06\n",
       "28          Ground   Kr-88                   3.164103e+01\n",
       "29          Ground   Mn-54      1.835e-05    1.834416e-05\n",
       "30          Ground   Mo-99      5.056e-06    5.059631e-06\n",
       "31          Ground  Xe-135          2.266    2.262911e+00\n",
       "32          Ground   Zn-65       1.99e-05    1.990281e-05"
      ]
     },
     "execution_count": 11,
     "metadata": {},
     "output_type": "execute_result"
    }
   ],
   "source": [
    "Atime0 = Seeds[\"STARTDATE\"] > pd.datetime(2013, 12, 31, 23, 59)\n",
    "Atime1 = Seeds[\"STARTDATE\"] < pd.datetime(2015, 1, 1, 0, 0)\n",
    "df14 = Seeds[Atime0 & Atime1]\n",
    "SEEDS_Tot_Nuclide_2014 = df14.groupby(by=[\"REL_MODE_OR_DIL\",\"NUCLIDE\"]).sum()[\"RELEASED\"]\n",
    "print(\"2014 SEEDS data starts on\",df14.STARTDATE.min(),\"and ends on\",df14.STOPDATE.max())\n",
    "dfARERR14 =  ARERR.loc[2014,slice(None),slice(None)][\"TOTAL\"].reset_index()\n",
    "dfARERR14.columns = [\"Year\",\"REL_MODE_OR_DIL\",\"NUCLIDE\",\"RELEASED\"]\n",
    "dfARERR14 = dfARERR14[[\"REL_MODE_OR_DIL\",\"NUCLIDE\",\"RELEASED\"]]\n",
    "pd.merge(dfARERR14,SEEDS_Tot_Nuclide_2014.reset_index(), right_on=[\"REL_MODE_OR_DIL\",\"NUCLIDE\"] ,\n",
    "         left_on=[\"REL_MODE_OR_DIL\",\"NUCLIDE\"], suffixes=('_ARERR','_SEEDS'),\n",
    "         how='outer').sort_values(by=[\"REL_MODE_OR_DIL\",\"NUCLIDE\"]).fillna(\"\").reset_index(drop=True)"
   ]
  },
  {
   "cell_type": "markdown",
   "metadata": {},
   "source": [
    "# 2015 Validation"
   ]
  },
  {
   "cell_type": "code",
   "execution_count": 12,
   "metadata": {
    "collapsed": false
   },
   "outputs": [
    {
     "name": "stdout",
     "output_type": "stream",
     "text": [
      "2015 SEEDS data starts on 2015-01-01 00:00:00 and ends on 2015-12-31 23:29:00\n"
     ]
    },
    {
     "data": {
      "text/html": [
       "<div>\n",
       "<table border=\"1\" class=\"dataframe\">\n",
       "  <thead>\n",
       "    <tr style=\"text-align: right;\">\n",
       "      <th></th>\n",
       "      <th>REL_MODE_OR_DIL</th>\n",
       "      <th>NUCLIDE</th>\n",
       "      <th>RELEASED_ARERR</th>\n",
       "      <th>RELEASED_SEEDS</th>\n",
       "    </tr>\n",
       "  </thead>\n",
       "  <tbody>\n",
       "    <tr>\n",
       "      <th>0</th>\n",
       "      <td>Elevated</td>\n",
       "      <td>Ba-140</td>\n",
       "      <td>0.002035</td>\n",
       "      <td>0.002035</td>\n",
       "    </tr>\n",
       "    <tr>\n",
       "      <th>1</th>\n",
       "      <td>Elevated</td>\n",
       "      <td>C-14</td>\n",
       "      <td>9.04</td>\n",
       "      <td>9.046000</td>\n",
       "    </tr>\n",
       "    <tr>\n",
       "      <th>2</th>\n",
       "      <td>Elevated</td>\n",
       "      <td>Co-58</td>\n",
       "      <td>0.008841</td>\n",
       "      <td>0.008839</td>\n",
       "    </tr>\n",
       "    <tr>\n",
       "      <th>3</th>\n",
       "      <td>Elevated</td>\n",
       "      <td>Co-60</td>\n",
       "      <td>0.00931</td>\n",
       "      <td>0.009312</td>\n",
       "    </tr>\n",
       "    <tr>\n",
       "      <th>4</th>\n",
       "      <td>Elevated</td>\n",
       "      <td>Cr-51</td>\n",
       "      <td>0.00043</td>\n",
       "      <td>0.000431</td>\n",
       "    </tr>\n",
       "    <tr>\n",
       "      <th>5</th>\n",
       "      <td>Elevated</td>\n",
       "      <td>Cs-137</td>\n",
       "      <td>0.000664</td>\n",
       "      <td>0.000664</td>\n",
       "    </tr>\n",
       "    <tr>\n",
       "      <th>6</th>\n",
       "      <td>Elevated</td>\n",
       "      <td>H-3</td>\n",
       "      <td>28.59</td>\n",
       "      <td>28.560002</td>\n",
       "    </tr>\n",
       "    <tr>\n",
       "      <th>7</th>\n",
       "      <td>Elevated</td>\n",
       "      <td>I-131</td>\n",
       "      <td>0.001152</td>\n",
       "      <td>0.001152</td>\n",
       "    </tr>\n",
       "    <tr>\n",
       "      <th>8</th>\n",
       "      <td>Elevated</td>\n",
       "      <td>I-133</td>\n",
       "      <td>0.003141</td>\n",
       "      <td>0.003141</td>\n",
       "    </tr>\n",
       "    <tr>\n",
       "      <th>9</th>\n",
       "      <td>Elevated</td>\n",
       "      <td>Kr-85m</td>\n",
       "      <td>2.721</td>\n",
       "      <td>2.700782</td>\n",
       "    </tr>\n",
       "    <tr>\n",
       "      <th>10</th>\n",
       "      <td>Elevated</td>\n",
       "      <td>Kr-88</td>\n",
       "      <td>2.182</td>\n",
       "      <td>2.174577</td>\n",
       "    </tr>\n",
       "    <tr>\n",
       "      <th>11</th>\n",
       "      <td>Elevated</td>\n",
       "      <td>Mn-54</td>\n",
       "      <td>0.001519</td>\n",
       "      <td>0.001519</td>\n",
       "    </tr>\n",
       "    <tr>\n",
       "      <th>12</th>\n",
       "      <td>Elevated</td>\n",
       "      <td>Mo-99</td>\n",
       "      <td>0.00034915</td>\n",
       "      <td>0.000350</td>\n",
       "    </tr>\n",
       "    <tr>\n",
       "      <th>13</th>\n",
       "      <td>Elevated</td>\n",
       "      <td>Sr-89</td>\n",
       "      <td>0.001569</td>\n",
       "      <td>0.001419</td>\n",
       "    </tr>\n",
       "    <tr>\n",
       "      <th>14</th>\n",
       "      <td>Elevated</td>\n",
       "      <td>Xe-133</td>\n",
       "      <td>3.042</td>\n",
       "      <td>3.027567</td>\n",
       "    </tr>\n",
       "    <tr>\n",
       "      <th>15</th>\n",
       "      <td>Elevated</td>\n",
       "      <td>Xe-135</td>\n",
       "      <td>32.3</td>\n",
       "      <td>32.365229</td>\n",
       "    </tr>\n",
       "    <tr>\n",
       "      <th>16</th>\n",
       "      <td>Elevated</td>\n",
       "      <td>Zn-65</td>\n",
       "      <td>0.002049</td>\n",
       "      <td>0.002052</td>\n",
       "    </tr>\n",
       "    <tr>\n",
       "      <th>17</th>\n",
       "      <td>Ground</td>\n",
       "      <td>C-14</td>\n",
       "      <td>0.2799</td>\n",
       "      <td>0.279900</td>\n",
       "    </tr>\n",
       "    <tr>\n",
       "      <th>18</th>\n",
       "      <td>Ground</td>\n",
       "      <td>Co-58</td>\n",
       "      <td>3.3418e-05</td>\n",
       "      <td>0.000034</td>\n",
       "    </tr>\n",
       "    <tr>\n",
       "      <th>19</th>\n",
       "      <td>Ground</td>\n",
       "      <td>Co-60</td>\n",
       "      <td>6.452e-05</td>\n",
       "      <td>0.000064</td>\n",
       "    </tr>\n",
       "    <tr>\n",
       "      <th>20</th>\n",
       "      <td>Ground</td>\n",
       "      <td>H-3</td>\n",
       "      <td>2.19</td>\n",
       "      <td>2.190420</td>\n",
       "    </tr>\n",
       "    <tr>\n",
       "      <th>21</th>\n",
       "      <td>Ground</td>\n",
       "      <td>I-131</td>\n",
       "      <td>2.226e-06</td>\n",
       "      <td>0.000002</td>\n",
       "    </tr>\n",
       "    <tr>\n",
       "      <th>22</th>\n",
       "      <td>Ground</td>\n",
       "      <td>I-133</td>\n",
       "      <td>3.2269e-06</td>\n",
       "      <td>0.000003</td>\n",
       "    </tr>\n",
       "    <tr>\n",
       "      <th>23</th>\n",
       "      <td>Ground</td>\n",
       "      <td>Kr-85m</td>\n",
       "      <td>0.0275</td>\n",
       "      <td>0.027486</td>\n",
       "    </tr>\n",
       "    <tr>\n",
       "      <th>24</th>\n",
       "      <td>Ground</td>\n",
       "      <td>Kr-87</td>\n",
       "      <td>0.368</td>\n",
       "      <td>0.368153</td>\n",
       "    </tr>\n",
       "    <tr>\n",
       "      <th>25</th>\n",
       "      <td>Ground</td>\n",
       "      <td>Kr-88</td>\n",
       "      <td>0.0656</td>\n",
       "      <td>0.065567</td>\n",
       "    </tr>\n",
       "    <tr>\n",
       "      <th>26</th>\n",
       "      <td>Ground</td>\n",
       "      <td>Mn-54</td>\n",
       "      <td>1.09e-06</td>\n",
       "      <td>0.000001</td>\n",
       "    </tr>\n",
       "    <tr>\n",
       "      <th>27</th>\n",
       "      <td>Ground</td>\n",
       "      <td>Xe-135</td>\n",
       "      <td>0.54</td>\n",
       "      <td>0.539784</td>\n",
       "    </tr>\n",
       "    <tr>\n",
       "      <th>28</th>\n",
       "      <td>Ground</td>\n",
       "      <td>Zn-65</td>\n",
       "      <td></td>\n",
       "      <td>0.000000</td>\n",
       "    </tr>\n",
       "  </tbody>\n",
       "</table>\n",
       "</div>"
      ],
      "text/plain": [
       "   REL_MODE_OR_DIL NUCLIDE RELEASED_ARERR  RELEASED_SEEDS\n",
       "0         Elevated  Ba-140       0.002035        0.002035\n",
       "1         Elevated    C-14           9.04        9.046000\n",
       "2         Elevated   Co-58       0.008841        0.008839\n",
       "3         Elevated   Co-60        0.00931        0.009312\n",
       "4         Elevated   Cr-51        0.00043        0.000431\n",
       "5         Elevated  Cs-137       0.000664        0.000664\n",
       "6         Elevated     H-3          28.59       28.560002\n",
       "7         Elevated   I-131       0.001152        0.001152\n",
       "8         Elevated   I-133       0.003141        0.003141\n",
       "9         Elevated  Kr-85m          2.721        2.700782\n",
       "10        Elevated   Kr-88          2.182        2.174577\n",
       "11        Elevated   Mn-54       0.001519        0.001519\n",
       "12        Elevated   Mo-99     0.00034915        0.000350\n",
       "13        Elevated   Sr-89       0.001569        0.001419\n",
       "14        Elevated  Xe-133          3.042        3.027567\n",
       "15        Elevated  Xe-135           32.3       32.365229\n",
       "16        Elevated   Zn-65       0.002049        0.002052\n",
       "17          Ground    C-14         0.2799        0.279900\n",
       "18          Ground   Co-58     3.3418e-05        0.000034\n",
       "19          Ground   Co-60      6.452e-05        0.000064\n",
       "20          Ground     H-3           2.19        2.190420\n",
       "21          Ground   I-131      2.226e-06        0.000002\n",
       "22          Ground   I-133     3.2269e-06        0.000003\n",
       "23          Ground  Kr-85m         0.0275        0.027486\n",
       "24          Ground   Kr-87          0.368        0.368153\n",
       "25          Ground   Kr-88         0.0656        0.065567\n",
       "26          Ground   Mn-54       1.09e-06        0.000001\n",
       "27          Ground  Xe-135           0.54        0.539784\n",
       "28          Ground   Zn-65                       0.000000"
      ]
     },
     "execution_count": 12,
     "metadata": {},
     "output_type": "execute_result"
    }
   ],
   "source": [
    "Btime0 = Seeds[\"STARTDATE\"] > pd.datetime(2014, 12, 31, 23, 59)\n",
    "Btime1 = Seeds[\"STARTDATE\"] < pd.datetime(2016, 1, 1, 0, 0)\n",
    "df15 = Seeds[Btime0 & Btime1]\n",
    "SEEDS_Tot_Nuclide_2015 = df15.groupby(by=[\"REL_MODE_OR_DIL\",\"NUCLIDE\"]).sum()[\"RELEASED\"]\n",
    "print(\"2015 SEEDS data starts on\",df15.STARTDATE.min(),\"and ends on\",df15.STOPDATE.max())\n",
    "dfARERR15 = ARERR.loc[2015,slice(None),slice(None)][\"TOTAL\"].reset_index()\n",
    "dfARERR15.columns = [\"Year\",\"REL_MODE_OR_DIL\",\"NUCLIDE\",\"RELEASED\"]\n",
    "dfARERR15 = dfARERR15[[\"REL_MODE_OR_DIL\",\"NUCLIDE\",\"RELEASED\"]]\n",
    "pd.merge(dfARERR15,SEEDS_Tot_Nuclide_2015.reset_index(), right_on=[\"REL_MODE_OR_DIL\",\"NUCLIDE\"] ,\n",
    "         left_on=[\"REL_MODE_OR_DIL\",\"NUCLIDE\"], suffixes=('_ARERR','_SEEDS'),\n",
    "         how='outer').sort_values(by=[\"REL_MODE_OR_DIL\",\"NUCLIDE\"]).fillna(\"\").reset_index(drop=True)"
   ]
  },
  {
   "cell_type": "markdown",
   "metadata": {},
   "source": [
    "# Schema Transformation\n"
   ]
  },
  {
   "cell_type": "code",
   "execution_count": 14,
   "metadata": {
    "collapsed": false
   },
   "outputs": [
    {
     "data": {
      "text/html": [
       "<div>\n",
       "<table border=\"1\" class=\"dataframe\">\n",
       "  <thead>\n",
       "    <tr style=\"text-align: right;\">\n",
       "      <th></th>\n",
       "      <th>PT_NUMBER</th>\n",
       "      <th>FLOW</th>\n",
       "      <th>STARTDATE</th>\n",
       "      <th>STOPDATE</th>\n",
       "      <th>REL_MODE_OR_DIL</th>\n",
       "      <th>NUCLIDECOUNT</th>\n",
       "      <th>NUCLIDE</th>\n",
       "      <th>MICROCURIES</th>\n",
       "      <th>RELEASED</th>\n",
       "    </tr>\n",
       "  </thead>\n",
       "  <tbody>\n",
       "    <tr>\n",
       "      <th>0</th>\n",
       "      <td>EFLEAKS4</td>\n",
       "      <td>143.0</td>\n",
       "      <td>2014-01-01</td>\n",
       "      <td>2014-07-25 15:00:00</td>\n",
       "      <td>Ground</td>\n",
       "      <td>8</td>\n",
       "      <td>Co-60</td>\n",
       "      <td>3.428313e-06</td>\n",
       "      <td>0.000061</td>\n",
       "    </tr>\n",
       "    <tr>\n",
       "      <th>1</th>\n",
       "      <td>STK0114C</td>\n",
       "      <td>176000.0</td>\n",
       "      <td>2014-01-01</td>\n",
       "      <td>2014-01-03 07:00:00</td>\n",
       "      <td>Elevated</td>\n",
       "      <td>1</td>\n",
       "      <td>I-131</td>\n",
       "      <td>3.214432e-05</td>\n",
       "      <td>0.000006</td>\n",
       "    </tr>\n",
       "    <tr>\n",
       "      <th>2</th>\n",
       "      <td>L0114COM</td>\n",
       "      <td>40300.0</td>\n",
       "      <td>2014-01-01</td>\n",
       "      <td>2014-01-31 23:59:00</td>\n",
       "      <td>Ground</td>\n",
       "      <td>1</td>\n",
       "      <td>C-14</td>\n",
       "      <td>9.257836e-03</td>\n",
       "      <td>0.024796</td>\n",
       "    </tr>\n",
       "    <tr>\n",
       "      <th>3</th>\n",
       "      <td>EFLEAKS4</td>\n",
       "      <td>143.0</td>\n",
       "      <td>2014-01-01</td>\n",
       "      <td>2014-07-25 15:00:00</td>\n",
       "      <td>Ground</td>\n",
       "      <td>8</td>\n",
       "      <td>Mo-99</td>\n",
       "      <td>2.847929e-07</td>\n",
       "      <td>0.000005</td>\n",
       "    </tr>\n",
       "    <tr>\n",
       "      <th>4</th>\n",
       "      <td>T14H3JAN</td>\n",
       "      <td>200000.0</td>\n",
       "      <td>2014-01-01</td>\n",
       "      <td>2014-01-31 23:59:00</td>\n",
       "      <td>Ground</td>\n",
       "      <td>1</td>\n",
       "      <td>H-3</td>\n",
       "      <td>3.199743e-02</td>\n",
       "      <td>0.085700</td>\n",
       "    </tr>\n",
       "  </tbody>\n",
       "</table>\n",
       "</div>"
      ],
      "text/plain": [
       "  PT_NUMBER      FLOW  STARTDATE            STOPDATE REL_MODE_OR_DIL  \\\n",
       "0  EFLEAKS4     143.0 2014-01-01 2014-07-25 15:00:00          Ground   \n",
       "1  STK0114C  176000.0 2014-01-01 2014-01-03 07:00:00        Elevated   \n",
       "2  L0114COM   40300.0 2014-01-01 2014-01-31 23:59:00          Ground   \n",
       "3  EFLEAKS4     143.0 2014-01-01 2014-07-25 15:00:00          Ground   \n",
       "4  T14H3JAN  200000.0 2014-01-01 2014-01-31 23:59:00          Ground   \n",
       "\n",
       "   NUCLIDECOUNT NUCLIDE   MICROCURIES  RELEASED  \n",
       "0             8   Co-60  3.428313e-06  0.000061  \n",
       "1             1   I-131  3.214432e-05  0.000006  \n",
       "2             1    C-14  9.257836e-03  0.024796  \n",
       "3             8   Mo-99  2.847929e-07  0.000005  \n",
       "4             1     H-3  3.199743e-02  0.085700  "
      ]
     },
     "execution_count": 14,
     "metadata": {},
     "output_type": "execute_result"
    }
   ],
   "source": [
    "Seeds.head()"
   ]
  },
  {
   "cell_type": "markdown",
   "metadata": {},
   "source": [
    "### RAC Prefered Schema\n",
    "|PT_NUMBER|PLANT|SRC_UNIT|NUCLIDE|ACTIVITY|ACT_UNITS|Max0Avg1Sum2|\n",
    "|-|-|-|-|-|-|-|\n",
    "|NUCTYPEIMPTYPE|SOURCE|STARTDATE|ENDDATE|DURATION_MIN|FLOW_RATE|FLOW_UNITS|\n",
    "|REL_VOL|REL_UNITS|RELEASE_SOURCE|DISCHARGE_POINT|REL_MODE_OR_DIL|IS_MDA|\n",
    "|BATCHORCONT|ALLOCATION_PERCENT|"
   ]
  },
  {
   "cell_type": "code",
   "execution_count": 16,
   "metadata": {
    "collapsed": true
   },
   "outputs": [],
   "source": [
    "def Minutes(value):\n",
    "    return value.total_seconds() / 60"
   ]
  },
  {
   "cell_type": "code",
   "execution_count": 23,
   "metadata": {
    "collapsed": false
   },
   "outputs": [],
   "source": [
    "Seeds[\"PLANT\"] = \"Oyster Creek\"\n",
    "Seeds[\"SRC_UNIT\"] = 1\n",
    "Seeds[\"ACTIVITY\"] = Seeds[\"MICROCURIES\"]\n",
    "Seeds[\"ACT_UNITS\"] = \"Microcuries per Second\"\n",
    "Seeds[\"Max0Avg1Sum2\"] = None\n",
    "Seeds[\"NUCTYPEIMPTYPE\"] = Seeds[\"NUCLIDECOUNT\"]\n",
    "Seeds[\"SOURCE\"] = None\n",
    "Seeds[\"DURATION_MIN\"] = (Seeds[\"STOPDATE\"] - Seeds[\"STARTDATE\"]).apply(Minutes)\n",
    "Seeds[\"FLOW_RATE\"] = Seeds[\"FLOW\"]\n",
    "Seeds[\"FLOW_UNITS\"] = None\n",
    "Seeds[\"REL_VOL\"] = None\n",
    "Seeds[\"REL_UNITS\"] = None\n",
    "Seeds[\"RELEASE_SOURCE\"] = None\n",
    "Seeds[\"DISCHARGE_POINT\"] = None\n",
    "Seeds[\"IS_MDA\"] = None\n",
    "Seeds[\"BATCHORCONT\"] = \"C\"\n",
    "Seeds[\"ALLOCATION_PERCENT\"] = 100\n",
    "Seeds[\"ENDDATE\"] = Seeds[\"STOPDATE\"]"
   ]
  },
  {
   "cell_type": "code",
   "execution_count": 24,
   "metadata": {
    "collapsed": false
   },
   "outputs": [],
   "source": [
    "Seeds = Seeds[[\"PT_NUMBER\",\"PLANT\",\"SRC_UNIT\",\"NUCLIDE\",\"ACTIVITY\",\"ACT_UNITS\",\"Max0Avg1Sum2\",\"NUCTYPEIMPTYPE\",\n",
    "              \"SOURCE\",\"STARTDATE\",\"ENDDATE\",\"DURATION_MIN\",\"FLOW_RATE\",\"FLOW_UNITS\",\"REL_VOL\",\"REL_UNITS\",\n",
    "              \"RELEASE_SOURCE\",\"DISCHARGE_POINT\",\"REL_MODE_OR_DIL\",\"IS_MDA\",\"BATCHORCONT\",\"ALLOCATION_PERCENT\"]]"
   ]
  },
  {
   "cell_type": "code",
   "execution_count": 49,
   "metadata": {
    "collapsed": false
   },
   "outputs": [],
   "source": [
    "Seeds.loc[Seeds[\"PT_NUMBER\"].str.startswith(\"A\"),\"RELEASE_SOURCE\"] = \"Augmented Off Gas\"\n",
    "Seeds.loc[Seeds[\"PT_NUMBER\"].str.contains(\"LEAKS\"),\"RELEASE_SOURCE\"] = \"Abnormal Release\"\n",
    "Seeds.loc[Seeds[\"PT_NUMBER\"].str.startswith(\"L\"),\"RELEASE_SOURCE\"] = \"Turbine Bldg Lube Oil Bay\"\n",
    "Seeds.loc[Seeds[\"PT_NUMBER\"].str.startswith(\"S\"),\"RELEASE_SOURCE\"] = \"Stack\"\n",
    "Seeds.loc[Seeds[\"PT_NUMBER\"].str.startswith(\"T\"),\"RELEASE_SOURCE\"] = \"Turbine Bldg\"\n",
    "Seeds.loc[Seeds[\"PT_NUMBER\"].str.startswith(\"TBNG\"),\"RELEASE_SOURCE\"] = \"Turbine Bldg Noble Gas\""
   ]
  },
  {
   "cell_type": "code",
   "execution_count": 50,
   "metadata": {
    "collapsed": false
   },
   "outputs": [
    {
     "data": {
      "text/html": [
       "<div>\n",
       "<table border=\"1\" class=\"dataframe\">\n",
       "  <thead>\n",
       "    <tr style=\"text-align: right;\">\n",
       "      <th></th>\n",
       "      <th>PT_NUMBER</th>\n",
       "      <th>PLANT</th>\n",
       "      <th>SRC_UNIT</th>\n",
       "      <th>NUCLIDE</th>\n",
       "      <th>ACTIVITY</th>\n",
       "      <th>ACT_UNITS</th>\n",
       "      <th>Max0Avg1Sum2</th>\n",
       "      <th>NUCTYPEIMPTYPE</th>\n",
       "      <th>SOURCE</th>\n",
       "      <th>STARTDATE</th>\n",
       "      <th>...</th>\n",
       "      <th>FLOW_RATE</th>\n",
       "      <th>FLOW_UNITS</th>\n",
       "      <th>REL_VOL</th>\n",
       "      <th>REL_UNITS</th>\n",
       "      <th>RELEASE_SOURCE</th>\n",
       "      <th>DISCHARGE_POINT</th>\n",
       "      <th>REL_MODE_OR_DIL</th>\n",
       "      <th>IS_MDA</th>\n",
       "      <th>BATCHORCONT</th>\n",
       "      <th>ALLOCATION_PERCENT</th>\n",
       "    </tr>\n",
       "  </thead>\n",
       "  <tbody>\n",
       "  </tbody>\n",
       "</table>\n",
       "<p>0 rows × 22 columns</p>\n",
       "</div>"
      ],
      "text/plain": [
       "Empty DataFrame\n",
       "Columns: [PT_NUMBER, PLANT, SRC_UNIT, NUCLIDE, ACTIVITY, ACT_UNITS, Max0Avg1Sum2, NUCTYPEIMPTYPE, SOURCE, STARTDATE, ENDDATE, DURATION_MIN, FLOW_RATE, FLOW_UNITS, REL_VOL, REL_UNITS, RELEASE_SOURCE, DISCHARGE_POINT, REL_MODE_OR_DIL, IS_MDA, BATCHORCONT, ALLOCATION_PERCENT]\n",
       "Index: []\n",
       "\n",
       "[0 rows x 22 columns]"
      ]
     },
     "execution_count": 50,
     "metadata": {},
     "output_type": "execute_result"
    }
   ],
   "source": [
    "Seeds[Seeds[\"RELEASE_SOURCE\"].isnull()]"
   ]
  },
  {
   "cell_type": "code",
   "execution_count": 51,
   "metadata": {
    "collapsed": false
   },
   "outputs": [
    {
     "data": {
      "text/plain": [
       "Index(['PT_NUMBER', 'PLANT', 'SRC_UNIT', 'NUCLIDE', 'ACTIVITY', 'ACT_UNITS',\n",
       "       'Max0Avg1Sum2', 'NUCTYPEIMPTYPE', 'SOURCE', 'STARTDATE', 'ENDDATE',\n",
       "       'DURATION_MIN', 'FLOW_RATE', 'FLOW_UNITS', 'REL_VOL', 'REL_UNITS',\n",
       "       'RELEASE_SOURCE', 'DISCHARGE_POINT', 'REL_MODE_OR_DIL', 'IS_MDA',\n",
       "       'BATCHORCONT', 'ALLOCATION_PERCENT'],\n",
       "      dtype='object')"
      ]
     },
     "execution_count": 51,
     "metadata": {},
     "output_type": "execute_result"
    }
   ],
   "source": [
    "Seeds.columns"
   ]
  },
  {
   "cell_type": "code",
   "execution_count": 52,
   "metadata": {
    "collapsed": false
   },
   "outputs": [
    {
     "data": {
      "text/plain": [
       "PT_NUMBER                           EFLEAKS4\n",
       "PLANT                           Oyster Creek\n",
       "SRC_UNIT                                   1\n",
       "NUCLIDE                                Co-60\n",
       "ACTIVITY                         3.42831e-06\n",
       "ACT_UNITS             Microcuries per Second\n",
       "Max0Avg1Sum2                            None\n",
       "NUCTYPEIMPTYPE                             8\n",
       "SOURCE                                  None\n",
       "STARTDATE                2014-01-01 00:00:00\n",
       "ENDDATE                  2014-07-25 15:00:00\n",
       "DURATION_MIN                          296100\n",
       "FLOW_RATE                                143\n",
       "FLOW_UNITS                              None\n",
       "REL_VOL                                 None\n",
       "REL_UNITS                               None\n",
       "RELEASE_SOURCE              Abnormal Release\n",
       "DISCHARGE_POINT                         None\n",
       "REL_MODE_OR_DIL                       Ground\n",
       "IS_MDA                                  None\n",
       "BATCHORCONT                                C\n",
       "ALLOCATION_PERCENT                       100\n",
       "Name: 0, dtype: object"
      ]
     },
     "execution_count": 52,
     "metadata": {},
     "output_type": "execute_result"
    }
   ],
   "source": [
    "Seeds.loc[0]"
   ]
  },
  {
   "cell_type": "code",
   "execution_count": 53,
   "metadata": {
    "collapsed": false
   },
   "outputs": [
    {
     "name": "stderr",
     "output_type": "stream",
     "text": [
      "C:\\Users\\collins\\AppData\\Local\\Continuum\\Anaconda3\\lib\\site-packages\\tables\\path.py:100: NaturalNameWarning: object name is not a valid Python identifier: 'OC_SEEDS_ver_2.00'; it does not match the pattern ``^[a-zA-Z_][a-zA-Z0-9_]*$``; you will not be able to use natural naming to access this object; using ``getattr()`` will still work, though\n",
      "  NaturalNameWarning)\n",
      "C:\\Users\\collins\\AppData\\Local\\Continuum\\Anaconda3\\lib\\site-packages\\IPython\\core\\interactiveshell.py:2885: PerformanceWarning: \n",
      "your performance may suffer as PyTables will pickle object types that it cannot\n",
      "map directly to c-types [inferred_type->mixed,key->block0_values] [items->['PT_NUMBER', 'PLANT', 'NUCLIDE', 'ACT_UNITS', 'Max0Avg1Sum2', 'SOURCE', 'FLOW_UNITS', 'REL_VOL', 'REL_UNITS', 'RELEASE_SOURCE', 'DISCHARGE_POINT', 'REL_MODE_OR_DIL', 'IS_MDA', 'BATCHORCONT']]\n",
      "\n",
      "  exec(code_obj, self.user_global_ns, self.user_ns)\n"
     ]
    }
   ],
   "source": [
    "store['OC_SEEDS_ver_2.00'] = Seeds"
   ]
  },
  {
   "cell_type": "code",
   "execution_count": 54,
   "metadata": {
    "collapsed": false
   },
   "outputs": [
    {
     "data": {
      "text/plain": [
       "<class 'pandas.io.pytables.HDFStore'>\n",
       "File path: Seeds.h5\n",
       "/OC_SEEDS_ver_2.00            frame        (shape->[1,22])  \n",
       "/Seeds_7_21_16                frame        (shape->[1531,8])\n",
       "/Seeds_7_24_16                frame        (shape->[1531,8])\n",
       "/Seeds_7_25_16                frame        (shape->[1516,9])"
      ]
     },
     "execution_count": 54,
     "metadata": {},
     "output_type": "execute_result"
    }
   ],
   "source": [
    "store"
   ]
  },
  {
   "cell_type": "markdown",
   "metadata": {},
   "source": [
    "# Final Seeds File\n",
    "## [Final Seeds File](https://chemstaff.egnyte.com/dl/DrJWmKuoNR)"
   ]
  },
  {
   "cell_type": "code",
   "execution_count": 56,
   "metadata": {
    "collapsed": false
   },
   "outputs": [
    {
     "data": {
      "text/html": [
       "<div>\n",
       "<table border=\"1\" class=\"dataframe\">\n",
       "  <thead>\n",
       "    <tr style=\"text-align: right;\">\n",
       "      <th></th>\n",
       "      <th>PT_NUMBER</th>\n",
       "      <th>PLANT</th>\n",
       "      <th>SRC_UNIT</th>\n",
       "      <th>NUCLIDE</th>\n",
       "      <th>ACTIVITY</th>\n",
       "      <th>ACT_UNITS</th>\n",
       "      <th>Max0Avg1Sum2</th>\n",
       "      <th>NUCTYPEIMPTYPE</th>\n",
       "      <th>SOURCE</th>\n",
       "      <th>STARTDATE</th>\n",
       "      <th>...</th>\n",
       "      <th>FLOW_RATE</th>\n",
       "      <th>FLOW_UNITS</th>\n",
       "      <th>REL_VOL</th>\n",
       "      <th>REL_UNITS</th>\n",
       "      <th>RELEASE_SOURCE</th>\n",
       "      <th>DISCHARGE_POINT</th>\n",
       "      <th>REL_MODE_OR_DIL</th>\n",
       "      <th>IS_MDA</th>\n",
       "      <th>BATCHORCONT</th>\n",
       "      <th>ALLOCATION_PERCENT</th>\n",
       "    </tr>\n",
       "  </thead>\n",
       "  <tbody>\n",
       "    <tr>\n",
       "      <th>567</th>\n",
       "      <td>TBNG0114</td>\n",
       "      <td>Oyster Creek</td>\n",
       "      <td>1</td>\n",
       "      <td>Kr-88</td>\n",
       "      <td>7.343283</td>\n",
       "      <td>Microcuries per Second</td>\n",
       "      <td>None</td>\n",
       "      <td>1</td>\n",
       "      <td>None</td>\n",
       "      <td>2014-11-12 02:35:00</td>\n",
       "      <td>...</td>\n",
       "      <td>40000.0</td>\n",
       "      <td>None</td>\n",
       "      <td>None</td>\n",
       "      <td>None</td>\n",
       "      <td>Turbine Bldg Noble Gas</td>\n",
       "      <td>None</td>\n",
       "      <td>Ground</td>\n",
       "      <td>None</td>\n",
       "      <td>C</td>\n",
       "      <td>100</td>\n",
       "    </tr>\n",
       "    <tr>\n",
       "      <th>925</th>\n",
       "      <td>AOGI0315</td>\n",
       "      <td>Oyster Creek</td>\n",
       "      <td>1</td>\n",
       "      <td>Kr-88</td>\n",
       "      <td>0.253664</td>\n",
       "      <td>Microcuries per Second</td>\n",
       "      <td>None</td>\n",
       "      <td>4</td>\n",
       "      <td>None</td>\n",
       "      <td>2015-05-25 04:10:00</td>\n",
       "      <td>...</td>\n",
       "      <td>8600.0</td>\n",
       "      <td>None</td>\n",
       "      <td>None</td>\n",
       "      <td>None</td>\n",
       "      <td>Augmented Off Gas</td>\n",
       "      <td>None</td>\n",
       "      <td>Ground</td>\n",
       "      <td>None</td>\n",
       "      <td>C</td>\n",
       "      <td>100</td>\n",
       "    </tr>\n",
       "  </tbody>\n",
       "</table>\n",
       "<p>2 rows × 22 columns</p>\n",
       "</div>"
      ],
      "text/plain": [
       "    PT_NUMBER         PLANT  SRC_UNIT NUCLIDE  ACTIVITY  \\\n",
       "567  TBNG0114  Oyster Creek         1   Kr-88  7.343283   \n",
       "925  AOGI0315  Oyster Creek         1   Kr-88  0.253664   \n",
       "\n",
       "                  ACT_UNITS Max0Avg1Sum2  NUCTYPEIMPTYPE SOURCE  \\\n",
       "567  Microcuries per Second         None               1   None   \n",
       "925  Microcuries per Second         None               4   None   \n",
       "\n",
       "              STARTDATE        ...         FLOW_RATE  FLOW_UNITS  REL_VOL  \\\n",
       "567 2014-11-12 02:35:00        ...           40000.0        None     None   \n",
       "925 2015-05-25 04:10:00        ...            8600.0        None     None   \n",
       "\n",
       "    REL_UNITS          RELEASE_SOURCE DISCHARGE_POINT REL_MODE_OR_DIL IS_MDA  \\\n",
       "567      None  Turbine Bldg Noble Gas            None          Ground   None   \n",
       "925      None       Augmented Off Gas            None          Ground   None   \n",
       "\n",
       "    BATCHORCONT ALLOCATION_PERCENT  \n",
       "567           C                100  \n",
       "925           C                100  \n",
       "\n",
       "[2 rows x 22 columns]"
      ]
     },
     "execution_count": 56,
     "metadata": {},
     "output_type": "execute_result"
    }
   ],
   "source": [
    "nuc = Seeds[\"NUCLIDE\"] == \"Kr-88\"\n",
    "ty = Seeds[\"REL_MODE_OR_DIL\"] == \"Ground\"\n",
    "Seeds[nuc & ty]"
   ]
  }
 ],
 "metadata": {
  "kernelspec": {
   "display_name": "Python 3",
   "language": "python",
   "name": "python3"
  },
  "language_info": {
   "codemirror_mode": {
    "name": "ipython",
    "version": 3
   },
   "file_extension": ".py",
   "mimetype": "text/x-python",
   "name": "python",
   "nbconvert_exporter": "python",
   "pygments_lexer": "ipython3",
   "version": "3.5.1"
  }
 },
 "nbformat": 4,
 "nbformat_minor": 0
}
